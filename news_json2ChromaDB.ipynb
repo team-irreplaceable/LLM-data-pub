{
  "cells": [
    {
      "cell_type": "markdown",
      "id": "a88febba",
      "metadata": {
        "colab_type": "text",
        "id": "view-in-github"
      },
      "source": [
        "<a href=\"https://colab.research.google.com/github/mingd00/News-RAG/blob/main/news_json2ChromaDB.ipynb\" target=\"_parent\"><img src=\"https://colab.research.google.com/assets/colab-badge.svg\" alt=\"Open In Colab\"/></a>"
      ]
    },
    {
      "cell_type": "code",
      "execution_count": 1,
      "id": "UUH9kn-POJMo",
      "metadata": {
        "colab": {
          "base_uri": "https://localhost:8080/"
        },
        "id": "UUH9kn-POJMo",
        "outputId": "d937a3f0-467b-4aa5-812c-b8420a1bbab2"
      },
      "outputs": [
        {
          "name": "stdout",
          "output_type": "stream",
          "text": [
            "Requirement already satisfied: chromadb in /usr/local/lib/python3.11/dist-packages (1.0.8)\n",
            "Requirement already satisfied: build>=1.0.3 in /usr/local/lib/python3.11/dist-packages (from chromadb) (1.2.2.post1)\n",
            "Requirement already satisfied: pydantic>=1.9 in /usr/local/lib/python3.11/dist-packages (from chromadb) (2.11.4)\n",
            "Requirement already satisfied: fastapi==0.115.9 in /usr/local/lib/python3.11/dist-packages (from chromadb) (0.115.9)\n",
            "Requirement already satisfied: uvicorn>=0.18.3 in /usr/local/lib/python3.11/dist-packages (from uvicorn[standard]>=0.18.3->chromadb) (0.34.2)\n",
            "Requirement already satisfied: numpy>=1.22.5 in /usr/local/lib/python3.11/dist-packages (from chromadb) (2.0.2)\n",
            "Requirement already satisfied: posthog>=2.4.0 in /usr/local/lib/python3.11/dist-packages (from chromadb) (4.0.1)\n",
            "Requirement already satisfied: typing-extensions>=4.5.0 in /usr/local/lib/python3.11/dist-packages (from chromadb) (4.13.2)\n",
            "Requirement already satisfied: onnxruntime>=1.14.1 in /usr/local/lib/python3.11/dist-packages (from chromadb) (1.21.1)\n",
            "Requirement already satisfied: opentelemetry-api>=1.2.0 in /usr/local/lib/python3.11/dist-packages (from chromadb) (1.32.1)\n",
            "Requirement already satisfied: opentelemetry-exporter-otlp-proto-grpc>=1.2.0 in /usr/local/lib/python3.11/dist-packages (from chromadb) (1.32.1)\n",
            "Requirement already satisfied: opentelemetry-instrumentation-fastapi>=0.41b0 in /usr/local/lib/python3.11/dist-packages (from chromadb) (0.53b1)\n",
            "Requirement already satisfied: opentelemetry-sdk>=1.2.0 in /usr/local/lib/python3.11/dist-packages (from chromadb) (1.32.1)\n",
            "Requirement already satisfied: tokenizers>=0.13.2 in /usr/local/lib/python3.11/dist-packages (from chromadb) (0.21.1)\n",
            "Requirement already satisfied: pypika>=0.48.9 in /usr/local/lib/python3.11/dist-packages (from chromadb) (0.48.9)\n",
            "Requirement already satisfied: tqdm>=4.65.0 in /usr/local/lib/python3.11/dist-packages (from chromadb) (4.67.1)\n",
            "Requirement already satisfied: overrides>=7.3.1 in /usr/local/lib/python3.11/dist-packages (from chromadb) (7.7.0)\n",
            "Requirement already satisfied: importlib-resources in /usr/local/lib/python3.11/dist-packages (from chromadb) (6.5.2)\n",
            "Requirement already satisfied: grpcio>=1.58.0 in /usr/local/lib/python3.11/dist-packages (from chromadb) (1.71.0)\n",
            "Requirement already satisfied: bcrypt>=4.0.1 in /usr/local/lib/python3.11/dist-packages (from chromadb) (4.3.0)\n",
            "Requirement already satisfied: typer>=0.9.0 in /usr/local/lib/python3.11/dist-packages (from chromadb) (0.15.3)\n",
            "Requirement already satisfied: kubernetes>=28.1.0 in /usr/local/lib/python3.11/dist-packages (from chromadb) (32.0.1)\n",
            "Requirement already satisfied: tenacity>=8.2.3 in /usr/local/lib/python3.11/dist-packages (from chromadb) (9.1.2)\n",
            "Requirement already satisfied: pyyaml>=6.0.0 in /usr/local/lib/python3.11/dist-packages (from chromadb) (6.0.2)\n",
            "Requirement already satisfied: mmh3>=4.0.1 in /usr/local/lib/python3.11/dist-packages (from chromadb) (5.1.0)\n",
            "Requirement already satisfied: orjson>=3.9.12 in /usr/local/lib/python3.11/dist-packages (from chromadb) (3.10.18)\n",
            "Requirement already satisfied: httpx>=0.27.0 in /usr/local/lib/python3.11/dist-packages (from chromadb) (0.28.1)\n",
            "Requirement already satisfied: rich>=10.11.0 in /usr/local/lib/python3.11/dist-packages (from chromadb) (13.9.4)\n",
            "Requirement already satisfied: jsonschema>=4.19.0 in /usr/local/lib/python3.11/dist-packages (from chromadb) (4.23.0)\n",
            "Requirement already satisfied: starlette<0.46.0,>=0.40.0 in /usr/local/lib/python3.11/dist-packages (from fastapi==0.115.9->chromadb) (0.45.3)\n",
            "Requirement already satisfied: packaging>=19.1 in /usr/local/lib/python3.11/dist-packages (from build>=1.0.3->chromadb) (24.2)\n",
            "Requirement already satisfied: pyproject_hooks in /usr/local/lib/python3.11/dist-packages (from build>=1.0.3->chromadb) (1.2.0)\n",
            "Requirement already satisfied: anyio in /usr/local/lib/python3.11/dist-packages (from httpx>=0.27.0->chromadb) (4.9.0)\n",
            "Requirement already satisfied: certifi in /usr/local/lib/python3.11/dist-packages (from httpx>=0.27.0->chromadb) (2025.4.26)\n",
            "Requirement already satisfied: httpcore==1.* in /usr/local/lib/python3.11/dist-packages (from httpx>=0.27.0->chromadb) (1.0.9)\n",
            "Requirement already satisfied: idna in /usr/local/lib/python3.11/dist-packages (from httpx>=0.27.0->chromadb) (3.10)\n",
            "Requirement already satisfied: h11>=0.16 in /usr/local/lib/python3.11/dist-packages (from httpcore==1.*->httpx>=0.27.0->chromadb) (0.16.0)\n",
            "Requirement already satisfied: attrs>=22.2.0 in /usr/local/lib/python3.11/dist-packages (from jsonschema>=4.19.0->chromadb) (25.3.0)\n",
            "Requirement already satisfied: jsonschema-specifications>=2023.03.6 in /usr/local/lib/python3.11/dist-packages (from jsonschema>=4.19.0->chromadb) (2025.4.1)\n",
            "Requirement already satisfied: referencing>=0.28.4 in /usr/local/lib/python3.11/dist-packages (from jsonschema>=4.19.0->chromadb) (0.36.2)\n",
            "Requirement already satisfied: rpds-py>=0.7.1 in /usr/local/lib/python3.11/dist-packages (from jsonschema>=4.19.0->chromadb) (0.24.0)\n",
            "Requirement already satisfied: six>=1.9.0 in /usr/local/lib/python3.11/dist-packages (from kubernetes>=28.1.0->chromadb) (1.17.0)\n",
            "Requirement already satisfied: python-dateutil>=2.5.3 in /usr/local/lib/python3.11/dist-packages (from kubernetes>=28.1.0->chromadb) (2.9.0.post0)\n",
            "Requirement already satisfied: google-auth>=1.0.1 in /usr/local/lib/python3.11/dist-packages (from kubernetes>=28.1.0->chromadb) (2.38.0)\n",
            "Requirement already satisfied: websocket-client!=0.40.0,!=0.41.*,!=0.42.*,>=0.32.0 in /usr/local/lib/python3.11/dist-packages (from kubernetes>=28.1.0->chromadb) (1.8.0)\n",
            "Requirement already satisfied: requests in /usr/local/lib/python3.11/dist-packages (from kubernetes>=28.1.0->chromadb) (2.32.3)\n",
            "Requirement already satisfied: requests-oauthlib in /usr/local/lib/python3.11/dist-packages (from kubernetes>=28.1.0->chromadb) (2.0.0)\n",
            "Requirement already satisfied: oauthlib>=3.2.2 in /usr/local/lib/python3.11/dist-packages (from kubernetes>=28.1.0->chromadb) (3.2.2)\n",
            "Requirement already satisfied: urllib3>=1.24.2 in /usr/local/lib/python3.11/dist-packages (from kubernetes>=28.1.0->chromadb) (2.4.0)\n",
            "Requirement already satisfied: durationpy>=0.7 in /usr/local/lib/python3.11/dist-packages (from kubernetes>=28.1.0->chromadb) (0.9)\n",
            "Requirement already satisfied: coloredlogs in /usr/local/lib/python3.11/dist-packages (from onnxruntime>=1.14.1->chromadb) (15.0.1)\n",
            "Requirement already satisfied: flatbuffers in /usr/local/lib/python3.11/dist-packages (from onnxruntime>=1.14.1->chromadb) (25.2.10)\n",
            "Requirement already satisfied: protobuf in /usr/local/lib/python3.11/dist-packages (from onnxruntime>=1.14.1->chromadb) (5.29.4)\n",
            "Requirement already satisfied: sympy in /usr/local/lib/python3.11/dist-packages (from onnxruntime>=1.14.1->chromadb) (1.13.1)\n",
            "Requirement already satisfied: deprecated>=1.2.6 in /usr/local/lib/python3.11/dist-packages (from opentelemetry-api>=1.2.0->chromadb) (1.2.18)\n",
            "Requirement already satisfied: importlib-metadata<8.7.0,>=6.0 in /usr/local/lib/python3.11/dist-packages (from opentelemetry-api>=1.2.0->chromadb) (8.6.1)\n",
            "Requirement already satisfied: googleapis-common-protos~=1.52 in /usr/local/lib/python3.11/dist-packages (from opentelemetry-exporter-otlp-proto-grpc>=1.2.0->chromadb) (1.70.0)\n",
            "Requirement already satisfied: opentelemetry-exporter-otlp-proto-common==1.32.1 in /usr/local/lib/python3.11/dist-packages (from opentelemetry-exporter-otlp-proto-grpc>=1.2.0->chromadb) (1.32.1)\n",
            "Requirement already satisfied: opentelemetry-proto==1.32.1 in /usr/local/lib/python3.11/dist-packages (from opentelemetry-exporter-otlp-proto-grpc>=1.2.0->chromadb) (1.32.1)\n",
            "Requirement already satisfied: opentelemetry-instrumentation-asgi==0.53b1 in /usr/local/lib/python3.11/dist-packages (from opentelemetry-instrumentation-fastapi>=0.41b0->chromadb) (0.53b1)\n",
            "Requirement already satisfied: opentelemetry-instrumentation==0.53b1 in /usr/local/lib/python3.11/dist-packages (from opentelemetry-instrumentation-fastapi>=0.41b0->chromadb) (0.53b1)\n",
            "Requirement already satisfied: opentelemetry-semantic-conventions==0.53b1 in /usr/local/lib/python3.11/dist-packages (from opentelemetry-instrumentation-fastapi>=0.41b0->chromadb) (0.53b1)\n",
            "Requirement already satisfied: opentelemetry-util-http==0.53b1 in /usr/local/lib/python3.11/dist-packages (from opentelemetry-instrumentation-fastapi>=0.41b0->chromadb) (0.53b1)\n",
            "Requirement already satisfied: wrapt<2.0.0,>=1.0.0 in /usr/local/lib/python3.11/dist-packages (from opentelemetry-instrumentation==0.53b1->opentelemetry-instrumentation-fastapi>=0.41b0->chromadb) (1.17.2)\n",
            "Requirement already satisfied: asgiref~=3.0 in /usr/local/lib/python3.11/dist-packages (from opentelemetry-instrumentation-asgi==0.53b1->opentelemetry-instrumentation-fastapi>=0.41b0->chromadb) (3.8.1)\n",
            "Requirement already satisfied: backoff>=1.10.0 in /usr/local/lib/python3.11/dist-packages (from posthog>=2.4.0->chromadb) (2.2.1)\n",
            "Requirement already satisfied: distro>=1.5.0 in /usr/local/lib/python3.11/dist-packages (from posthog>=2.4.0->chromadb) (1.9.0)\n",
            "Requirement already satisfied: annotated-types>=0.6.0 in /usr/local/lib/python3.11/dist-packages (from pydantic>=1.9->chromadb) (0.7.0)\n",
            "Requirement already satisfied: pydantic-core==2.33.2 in /usr/local/lib/python3.11/dist-packages (from pydantic>=1.9->chromadb) (2.33.2)\n",
            "Requirement already satisfied: typing-inspection>=0.4.0 in /usr/local/lib/python3.11/dist-packages (from pydantic>=1.9->chromadb) (0.4.0)\n",
            "Requirement already satisfied: markdown-it-py>=2.2.0 in /usr/local/lib/python3.11/dist-packages (from rich>=10.11.0->chromadb) (3.0.0)\n",
            "Requirement already satisfied: pygments<3.0.0,>=2.13.0 in /usr/local/lib/python3.11/dist-packages (from rich>=10.11.0->chromadb) (2.19.1)\n",
            "Requirement already satisfied: huggingface-hub<1.0,>=0.16.4 in /usr/local/lib/python3.11/dist-packages (from tokenizers>=0.13.2->chromadb) (0.30.2)\n",
            "Requirement already satisfied: click>=8.0.0 in /usr/local/lib/python3.11/dist-packages (from typer>=0.9.0->chromadb) (8.1.8)\n",
            "Requirement already satisfied: shellingham>=1.3.0 in /usr/local/lib/python3.11/dist-packages (from typer>=0.9.0->chromadb) (1.5.4)\n",
            "Requirement already satisfied: httptools>=0.6.3 in /usr/local/lib/python3.11/dist-packages (from uvicorn[standard]>=0.18.3->chromadb) (0.6.4)\n",
            "Requirement already satisfied: python-dotenv>=0.13 in /usr/local/lib/python3.11/dist-packages (from uvicorn[standard]>=0.18.3->chromadb) (1.1.0)\n",
            "Requirement already satisfied: uvloop!=0.15.0,!=0.15.1,>=0.14.0 in /usr/local/lib/python3.11/dist-packages (from uvicorn[standard]>=0.18.3->chromadb) (0.21.0)\n",
            "Requirement already satisfied: watchfiles>=0.13 in /usr/local/lib/python3.11/dist-packages (from uvicorn[standard]>=0.18.3->chromadb) (1.0.5)\n",
            "Requirement already satisfied: websockets>=10.4 in /usr/local/lib/python3.11/dist-packages (from uvicorn[standard]>=0.18.3->chromadb) (15.0.1)\n",
            "Requirement already satisfied: cachetools<6.0,>=2.0.0 in /usr/local/lib/python3.11/dist-packages (from google-auth>=1.0.1->kubernetes>=28.1.0->chromadb) (5.5.2)\n",
            "Requirement already satisfied: pyasn1-modules>=0.2.1 in /usr/local/lib/python3.11/dist-packages (from google-auth>=1.0.1->kubernetes>=28.1.0->chromadb) (0.4.2)\n",
            "Requirement already satisfied: rsa<5,>=3.1.4 in /usr/local/lib/python3.11/dist-packages (from google-auth>=1.0.1->kubernetes>=28.1.0->chromadb) (4.9.1)\n",
            "Requirement already satisfied: filelock in /usr/local/lib/python3.11/dist-packages (from huggingface-hub<1.0,>=0.16.4->tokenizers>=0.13.2->chromadb) (3.18.0)\n",
            "Requirement already satisfied: fsspec>=2023.5.0 in /usr/local/lib/python3.11/dist-packages (from huggingface-hub<1.0,>=0.16.4->tokenizers>=0.13.2->chromadb) (2025.3.2)\n",
            "Requirement already satisfied: zipp>=3.20 in /usr/local/lib/python3.11/dist-packages (from importlib-metadata<8.7.0,>=6.0->opentelemetry-api>=1.2.0->chromadb) (3.21.0)\n",
            "Requirement already satisfied: mdurl~=0.1 in /usr/local/lib/python3.11/dist-packages (from markdown-it-py>=2.2.0->rich>=10.11.0->chromadb) (0.1.2)\n",
            "Requirement already satisfied: charset-normalizer<4,>=2 in /usr/local/lib/python3.11/dist-packages (from requests->kubernetes>=28.1.0->chromadb) (3.4.1)\n",
            "Requirement already satisfied: sniffio>=1.1 in /usr/local/lib/python3.11/dist-packages (from anyio->httpx>=0.27.0->chromadb) (1.3.1)\n",
            "Requirement already satisfied: humanfriendly>=9.1 in /usr/local/lib/python3.11/dist-packages (from coloredlogs->onnxruntime>=1.14.1->chromadb) (10.0)\n",
            "Requirement already satisfied: mpmath<1.4,>=1.1.0 in /usr/local/lib/python3.11/dist-packages (from sympy->onnxruntime>=1.14.1->chromadb) (1.3.0)\n",
            "Requirement already satisfied: pyasn1<0.7.0,>=0.6.1 in /usr/local/lib/python3.11/dist-packages (from pyasn1-modules>=0.2.1->google-auth>=1.0.1->kubernetes>=28.1.0->chromadb) (0.6.1)\n"
          ]
        }
      ],
      "source": [
        "!pip install chromadb"
      ]
    },
    {
      "cell_type": "code",
      "execution_count": 2,
      "id": "3cbc83ba-2fab-4267-8d54-b9e8af96a46e",
      "metadata": {
        "id": "3cbc83ba-2fab-4267-8d54-b9e8af96a46e"
      },
      "outputs": [],
      "source": [
        "import chromadb\n",
        "from chromadb import PersistentClient\n",
        "from chromadb.config import Settings\n",
        "import json\n",
        "import uuid\n",
        "import shutil"
      ]
    },
    {
      "cell_type": "code",
      "execution_count": 3,
      "id": "b29d5de8-411f-4337-8079-0e38e8980d2b",
      "metadata": {
        "id": "b29d5de8-411f-4337-8079-0e38e8980d2b"
      },
      "outputs": [],
      "source": [
        "# 1. ChromaDB 설정 - PersistentClient 사용!\n",
        "chroma_client = PersistentClient(path=\"news_chroma_db\")  # 이 경로에 DB가 저장됨\n",
        "\n",
        "# 2. 컬렉션 생성 또는 불러오기\n",
        "collection = chroma_client.get_or_create_collection(name=\"news_articles\")"
      ]
    },
    {
      "cell_type": "code",
      "execution_count": 4,
      "id": "qmq08FM6Offg",
      "metadata": {
        "colab": {
          "base_uri": "https://localhost:8080/"
        },
        "id": "qmq08FM6Offg",
        "outputId": "6fb3faab-34e8-4575-da9f-5c2ecf96f4e6"
      },
      "outputs": [
        {
          "name": "stderr",
          "output_type": "stream",
          "text": [
            "/root/.cache/chroma/onnx_models/all-MiniLM-L6-v2/onnx.tar.gz: 100%|██████████| 79.3M/79.3M [00:03<00:00, 26.3MiB/s]\n"
          ]
        },
        {
          "name": "stdout",
          "output_type": "stream",
          "text": [
            "✅ ChromaDB에 저장 완료\n"
          ]
        }
      ],
      "source": [
        "# 3. JSON 파일 로드\n",
        "with open(\"sports_news.json\", \"r\", encoding=\"utf-8\") as f:\n",
        "    news_data = json.load(f)\n",
        "\n",
        "# 4. 데이터 삽입\n",
        "for item in news_data:\n",
        "    uid = str(uuid.uuid4())  # 고유 ID 생성\n",
        "    collection.add(\n",
        "        documents=[item[\"content\"]],\n",
        "        metadatas=[{\n",
        "            \"title\": item[\"title\"],\n",
        "            \"date\": item[\"date\"],\n",
        "            \"link\": item[\"link\"],\n",
        "            \"journal\": item[\"journal\"]\n",
        "        }],\n",
        "        ids=[uid]\n",
        "    )\n",
        "\n",
        "print(\"✅ ChromaDB에 저장 완료\")"
      ]
    },
    {
      "cell_type": "code",
      "execution_count": 9,
      "id": "jk66Kv0nOnHf",
      "metadata": {
        "colab": {
          "base_uri": "https://localhost:8080/"
        },
        "id": "jk66Kv0nOnHf",
        "outputId": "7c804953-8327-4c40-e85e-0e79832a88d8"
      },
      "outputs": [
        {
          "name": "stdout",
          "output_type": "stream",
          "text": [
            "제목: [부고]박성준(경기대학교 스포츠과학부 교수)씨 모친상 / 날짜: 2025-05-04 14:41 / 언론사: 뉴시스\n",
            "내용: [수원=뉴시스]▲신옥분씨 별세, 박성준(경기대 스포츠과학부 교수)씨 모친상=4일, 서울성모 장례식장 8호실, 발인 6일 오전 9시40분. 02-2258-5965...\n",
            "\n",
            "제목: LGU+, e스포츠 행사에서 와이파이7 체험 부스 운영 / 날짜: 2025-05-02 11:31 / 언론사: 헤럴드경제\n",
            "내용: ‘젠지 홈스탠드’ 메인 스폰서 참여와이파이7, 4배 빠른 속도 체감‘2025 젠지 홈스탠드’에 설치될 LG유플러스의 와이파이7 체험부스 조감도  [LG유플러스 제공]LG유플러스가 ...\n",
            "\n",
            "제목: LGU+, e스포츠 행사서 '와이파이7' 경쟁력 선보인다 / 날짜: 2025-05-02 08:45 / 언론사: Unknown\n",
            "내용: LG유플러스 CI. /사진=LG유플러스LG유플러스는 e스포츠 팬들이 모이는 '2025 젠지(Gen.G Esports) 홈스탠드' 행사에서 '와이파이7' 체험 부스를 운영한다고 2일...\n",
            "\n"
          ]
        }
      ],
      "source": [
        "# DB 불러오기\n",
        "client = PersistentClient(path=\"news_chroma_db\")\n",
        "collection = client.get_collection(\"news_articles\")\n",
        "\n",
        "# 예: 골프 관련 검색\n",
        "results = collection.query(query_texts=[\"골프\"], n_results=3)\n",
        "\n",
        "for doc, meta in zip(results['documents'][0], results['metadatas'][0]):\n",
        "    print(f\"제목: {meta['title']} / 날짜: {meta['date']} / 언론사: {meta['journal']}\")\n",
        "    print(f\"내용: {doc[:100]}...\\n\")"
      ]
    },
    {
      "cell_type": "code",
      "execution_count": 8,
      "id": "34IfEqj0UwED",
      "metadata": {
        "colab": {
          "base_uri": "https://localhost:8080/"
        },
        "id": "34IfEqj0UwED",
        "outputId": "410bb8ab-56ec-4d3e-dcff-437cea1f2b6a"
      },
      "outputs": [
        {
          "name": "stdout",
          "output_type": "stream",
          "text": [
            "  adding: news_chroma_db/ (stored 0%)\n",
            "  adding: news_chroma_db/6b05eeff-fc5b-4d06-aede-601cdc2ec945/ (stored 0%)\n",
            "  adding: news_chroma_db/6b05eeff-fc5b-4d06-aede-601cdc2ec945/length.bin (deflated 100%)\n",
            "  adding: news_chroma_db/6b05eeff-fc5b-4d06-aede-601cdc2ec945/data_level0.bin (deflated 100%)\n",
            "  adding: news_chroma_db/6b05eeff-fc5b-4d06-aede-601cdc2ec945/header.bin (deflated 61%)\n",
            "  adding: news_chroma_db/6b05eeff-fc5b-4d06-aede-601cdc2ec945/link_lists.bin (stored 0%)\n",
            "  adding: news_chroma_db/chroma.sqlite3 (deflated 63%)\n"
          ]
        }
      ],
      "source": [
        "!zip -r news_chroma_db.zip news_chroma_db"
      ]
    },
    {
      "cell_type": "code",
      "execution_count": 3,
      "id": "7eiPxHx3VcB1",
      "metadata": {
        "colab": {
          "base_uri": "https://localhost:8080/"
        },
        "id": "7eiPxHx3VcB1",
        "outputId": "bdb41457-dca3-4349-f6fa-6b7b00fb3a38"
      },
      "outputs": [
        {
          "name": "stdout",
          "output_type": "stream",
          "text": [
            "Archive:  news_chroma_db.zip\n",
            "   creating: news_chroma_db/\n",
            "   creating: news_chroma_db/6b05eeff-fc5b-4d06-aede-601cdc2ec945/\n",
            "  inflating: news_chroma_db/6b05eeff-fc5b-4d06-aede-601cdc2ec945/data_level0.bin  \n",
            "  inflating: news_chroma_db/6b05eeff-fc5b-4d06-aede-601cdc2ec945/header.bin  \n",
            "  inflating: news_chroma_db/6b05eeff-fc5b-4d06-aede-601cdc2ec945/length.bin  \n",
            " extracting: news_chroma_db/6b05eeff-fc5b-4d06-aede-601cdc2ec945/link_lists.bin  \n",
            "  inflating: news_chroma_db/chroma.sqlite3  \n"
          ]
        }
      ],
      "source": [
        "# zip 파일로 저장된 ChromaDB 압축 풀기\n",
        "!unzip -o news_chroma_db.zip"
      ]
    },
    {
      "cell_type": "code",
      "execution_count": 4,
      "id": "2kRoJxiZPB2I",
      "metadata": {
        "colab": {
          "base_uri": "https://localhost:8080/"
        },
        "id": "2kRoJxiZPB2I",
        "outputId": "5a72e480-c1ec-42cd-d708-a56d23f592d5"
      },
      "outputs": [
        {
          "name": "stderr",
          "output_type": "stream",
          "text": [
            "/root/.cache/chroma/onnx_models/all-MiniLM-L6-v2/onnx.tar.gz: 100%|██████████| 79.3M/79.3M [00:01<00:00, 71.1MiB/s]\n"
          ]
        },
        {
          "name": "stdout",
          "output_type": "stream",
          "text": [
            "제목: [부고]박성준(경기대학교 스포츠과학부 교수)씨 모친상 / 날짜: 2025-05-04 14:41 / 언론사: 뉴시스\n",
            "내용: [수원=뉴시스]▲신옥분씨 별세, 박성준(경기대 스포츠과학부 교수)씨 모친상=4일, 서울성모 장례식장 8호실, 발인 6일 오전 9시40분. 02-2258-5965...\n",
            "\n",
            "제목: LGU+, e스포츠 행사에서 와이파이7 체험 부스 운영 / 날짜: 2025-05-02 11:31 / 언론사: 헤럴드경제\n",
            "내용: ‘젠지 홈스탠드’ 메인 스폰서 참여와이파이7, 4배 빠른 속도 체감‘2025 젠지 홈스탠드’에 설치될 LG유플러스의 와이파이7 체험부스 조감도  [LG유플러스 제공]LG유플러스가 ...\n",
            "\n",
            "제목: LGU+, e스포츠 행사서 '와이파이7' 경쟁력 선보인다 / 날짜: 2025-05-02 08:45 / 언론사: Unknown\n",
            "내용: LG유플러스 CI. /사진=LG유플러스LG유플러스는 e스포츠 팬들이 모이는 '2025 젠지(Gen.G Esports) 홈스탠드' 행사에서 '와이파이7' 체험 부스를 운영한다고 2일...\n",
            "\n"
          ]
        }
      ],
      "source": [
        "# 똑같이 사용 가능\n",
        "client = PersistentClient(path=\"news_chroma_db\")\n",
        "collection = client.get_collection(\"news_articles\")\n",
        "\n",
        "# 예: 골프 관련 검색\n",
        "results = collection.query(query_texts=[\"골프\"], n_results=3)\n",
        "\n",
        "for doc, meta in zip(results['documents'][0], results['metadatas'][0]):\n",
        "    print(f\"제목: {meta['title']} / 날짜: {meta['date']} / 언론사: {meta['journal']}\")\n",
        "    print(f\"내용: {doc[:100]}...\\n\")"
      ]
    },
    {
      "cell_type": "code",
      "execution_count": null,
      "id": "lucpJzodVr0E",
      "metadata": {
        "id": "lucpJzodVr0E"
      },
      "outputs": [],
      "source": []
    }
  ],
  "metadata": {
    "colab": {
      "include_colab_link": true,
      "provenance": []
    },
    "kernelspec": {
      "display_name": "Python 3 (ipykernel)",
      "language": "python",
      "name": "python3"
    },
    "language_info": {
      "codemirror_mode": {
        "name": "ipython",
        "version": 3
      },
      "file_extension": ".py",
      "mimetype": "text/x-python",
      "name": "python",
      "nbconvert_exporter": "python",
      "pygments_lexer": "ipython3",
      "version": "3.12.7"
    }
  },
  "nbformat": 4,
  "nbformat_minor": 5
}
