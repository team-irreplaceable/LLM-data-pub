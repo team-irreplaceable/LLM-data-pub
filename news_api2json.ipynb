{
  "cells": [
    {
      "cell_type": "markdown",
      "metadata": {
        "colab_type": "text",
        "id": "view-in-github"
      },
      "source": [
        "<a href=\"https://colab.research.google.com/github/mingd00/News-RAG/blob/main/news_api2json.ipynb\" target=\"_parent\"><img src=\"https://colab.research.google.com/assets/colab-badge.svg\" alt=\"Open In Colab\"/></a>"
      ]
    },
    {
      "cell_type": "code",
      "execution_count": null,
      "id": "58b20dce-7dc9-4102-99c0-a8f8eac38408",
      "metadata": {
        "id": "58b20dce-7dc9-4102-99c0-a8f8eac38408"
      },
      "outputs": [],
      "source": [
        "import requests\n",
        "from bs4 import BeautifulSoup\n",
        "import time\n",
        "import json\n",
        "import re\n",
        "from urllib.parse import urlparse\n",
        "from email.utils import parsedate_to_datetime\n",
        "from dotenv import load_dotenv\n",
        "import os"
      ]
    },
    {
      "cell_type": "code",
      "execution_count": 9,
      "id": "22c5a5b2-5ee4-46cd-9ab7-466e5200d5ec",
      "metadata": {
        "colab": {
          "base_uri": "https://localhost:8080/"
        },
        "id": "22c5a5b2-5ee4-46cd-9ab7-466e5200d5ec",
        "outputId": "41aa2754-2581-4018-f49e-227b015ff29e"
      },
      "outputs": [
        {
          "name": "stdout",
          "output_type": "stream",
          "text": [
            "최경주가 2024년 5월15일 제주 서귀포 핀크스 콜프클럽에서 열린 한국프로골프투어(KPGA) SK텔레콤 채리티 오픈(자선경기)에서 10번홀 세컨 아이언샷을 하고 있다. (SK텔레콤 제공) 2024.5.15/뉴스1(제주=뉴스1) 고동명 기자 = 5월 한 달간 제주도내에서 총 22개 스포츠대회가 개최된다고 6일 제주도가 밝혔다.도에 따르면 국제대회로는 오는 24~25일 탑동공원과 성판악 일대에서 '제24회 제주 국제 울트라마라톤 대회'가 열린다. 이 대회에선 10개국 선수와 관계자 등 200여 명이 참가한다.전국대회로는 8일 'KPGA 클래식 골프대회'와 15일 'SK텔레콤2025 골프대회'가 연달아 개최된다. 전국에서 모인 프로골프선수 240여 명이 이들 대회에서 최강자를 가린다. 15일에는 '제80회 '제주 전국 학생테니스 선수권대회'도 예정돼 있다.도내 대회는 지난 3일 열린 제3회 '제주특별자치도체육회장배 전도파크골프대회'를 시작으로 4일 '2025 도족구협회장배 전도족구대회', 10일 '2025 제37회 미스터제주 챔피언십', 17일 '제17회 미디어제주기 전도 유소년 축구대회' 등이 도내 곳곳에서 펼쳐진다.이외에도 △2025 제주 챌린저컵 유소년 축구 리그 대회(3~4일, 외도구장) △제26회 KCTV배 제주도 배드민턴 대회(10~11일, 제주복합체육관) △제25회 도협회장배 전도여성게이트볼대회(24일, 제주복합체육관) 등 다양한 종목 대회가 열린다.장애인대회로는 9일 '제19회 제주도지사배 전국장애인사이클대회'를 시작으로 11일 '제3회 제주도장애인 수영연맹회장배 어울림수영대회', 15일 '제16회 전도시각장애인플라잉디스크대회 및 한·일 국제플라잉디스크교류대회', 31일 '제4회 제주시 어울림 생활체육대회'가 열린다.도는 이달 열리는 국제대회에선 11억 2600만 원, 전국대회는 80억 8000만 원, 도내대회는 3억 8200만 원 등의 지역경제 파급효과를 예상하고 있다.\n"
          ]
        }
      ],
      "source": [
        "def get_article_content(url: str) -> str:\n",
        "    \"\"\"\n",
        "    주어진 URL에서 기사 본문을 추출하는 함수.\n",
        "\n",
        "    :param url: 뉴스 기사 페이지의 URL\n",
        "    :return: 기사 본문 텍스트 (사진은 제외됨)\n",
        "    \"\"\"\n",
        "    try:\n",
        "        # 웹 페이지 요청 보내기\n",
        "        response = requests.get(url)\n",
        "\n",
        "        # 요청이 성공적일 때\n",
        "        if response.status_code == 200:\n",
        "            # BeautifulSoup을 사용해 HTML 파싱\n",
        "            soup = BeautifulSoup(response.text, 'html.parser')\n",
        "\n",
        "            # 기사 본문이 들어있는 <article> 태그 찾기\n",
        "            article = soup.find('article', {'id': 'dic_area', 'class': 'go_trans _article_content'})\n",
        "\n",
        "            # 기사 본문 추출\n",
        "            if article:\n",
        "                content = article.get_text(strip=True)\n",
        "                return content\n",
        "            else:\n",
        "                return \"기사 본문을 찾을 수 없습니다.\"\n",
        "        else:\n",
        "            return f\"웹사이트 요청 실패: {response.status_code}\"\n",
        "\n",
        "    except Exception as e:\n",
        "        return f\"오류 발생: {str(e)}\"\n",
        "\n",
        "\n",
        "# 사용 예시\n",
        "url = 'https://n.news.naver.com/mnews/article/421/0008233058?sid=102'  # 여기에 실제 뉴스 기사 URL을 넣으세요\n",
        "article_content = get_article_content(url)\n",
        "print(article_content)"
      ]
    },
    {
      "cell_type": "code",
      "execution_count": 10,
      "id": "a4ad4b8a-0f9d-4239-836d-06660da54a3a",
      "metadata": {
        "id": "a4ad4b8a-0f9d-4239-836d-06660da54a3a"
      },
      "outputs": [],
      "source": [
        "news_media_mapping = {\n",
        "    \"yonhapnews.co.kr\": \"연합뉴스\",\n",
        "    \"yonhapnewstv.co.kr\": \"연합뉴스TV\",\n",
        "    \"news1.kr\": \"뉴스1\",\n",
        "    \"edu.donga.com\": \"동아일보\",\n",
        "    \"biz.heraldcorp.com\": \"헤럴드경제\",\n",
        "    \"daily.hankooki.com\": \"한국일보\",\n",
        "    \"kmib.co.kr\": \"기독교일보\",\n",
        "    \"kbs.co.kr\": \"KBS\",\n",
        "    \"munhwa.com\": \"문화일보\",\n",
        "    \"sports.naver.com\": \"네이버 스포츠\",\n",
        "    \"newsis.com\": \"뉴시스\",\n",
        "    \"segye.com\": \"세계일보\",\n",
        "    \"hankooki.com\": \"한겨레\",\n",
        "    \"chosun.com\": \"조선일보\",\n",
        "    \"joongang.co.kr\": \"중앙일보\",\n",
        "    \"khan.co.kr\": \"경향신문\",\n",
        "    \"hani.co.kr\": \"한겨레\",\n",
        "    \"sports.chosun.com\": \"스포츠조선\",\n",
        "    \"sports.donga.com\": \"스포츠동아\",\n",
        "    \"news.naver.com\": \"네이버 뉴스\",\n",
        "    \"n.news.naver.com\": \"네이버 뉴스\",\n",
        "    \"m.post.naver.com\": \"네이버 포스트\",\n",
        "    \"seoul.co.kr\": \"서울신문\",\n",
        "    \"etnews.com\": \"전자신문\",\n",
        "    \"ytn.co.kr\": \"YTN\",\n",
        "    \"tbs.seoul.kr\": \"TBS\",\n",
        "    \"mbn.co.kr\": \"MBN 뉴스\",\n",
        "    \"news.kmib.co.kr\": \"국민일보\",\n",
        "    \"newdaily.co.kr\": \"뉴데일리\",\n",
        "    \"yna.co.kr\": \"연합뉴스\",\n",
        "    \"naeil.com\": \"내일신문\",\n",
        "    \"kihoilbo.co.kr\": \"기호일보\",\n",
        "    \"edaily.co.kr\": \"이데일리\",\n",
        "    \"fnnews.com\": \"파이넨셜뉴스\",\n",
        "    \"hankyung.com\": \"한경\",\n",
        "    \"incheonnews.com\": \"인천뉴스\",\n",
        "    \"bloter.net\": \"BROTER\",\n",
        "    \"dt.co.kr\": \"디지털타임스\",\n",
        "    \"sentv.co.kr\": \"서울경제TV\" ,\n",
        "    \"econovill.com\": \"이코노믹 리뷰\",\n",
        "    \"nytimes.com\": \"The New York Times\",\n",
        "    \"digitaltoday.co.kr\": \"Digital Today\",\n",
        "    \"koreajoongangdaily.joins.com\": \"Korea JoongAng Daily\",\n",
        "    \"ddaily.co.kr\": \"디지털 데일리\",\n",
        "    \"hankyung.com\": \"한국경제신문\",\n",
        "    \"sedaily.com\": \"서울경제\",\n",
        "    \"sportsseoul.com\": \"스포츠서울\",\n",
        "    \"joongboo.com\": \"중부일보\",\n",
        "    \"nocutnews.co.kr\": \"노컷뉴스\",\n",
        "    \"imbc.com\": \"MBC 뉴스\",\n",
        "    \"news.mt.co.kr\": \"머니투데이\",\n",
        "}"
      ]
    },
    {
      "cell_type": "code",
      "execution_count": 11,
      "id": "7eef9265-883b-4434-8643-acb1d57f3e78",
      "metadata": {
        "id": "7eef9265-883b-4434-8643-acb1d57f3e78"
      },
      "outputs": [],
      "source": [
        "# URL에서 도메인 추출 함수\n",
        "def extract_domain(url):\n",
        "    parsed_url = urlparse(url)\n",
        "    domain = parsed_url.hostname\n",
        "    if domain.startswith(\"www.\"):\n",
        "        domain = domain[4:]  # \"www.\" 제거\n",
        "    return domain"
      ]
    },
    {
      "cell_type": "code",
      "execution_count": 12,
      "id": "613609a8-3706-43e1-bdc8-aa65d4039c90",
      "metadata": {
        "id": "613609a8-3706-43e1-bdc8-aa65d4039c90"
      },
      "outputs": [],
      "source": [
        "# 태그 제거\n",
        "def clean_html_tags(text):\n",
        "    return re.sub(r\"<.*?>\", \"\", text)\n",
        "\n",
        "# 날짜 형식 지정\n",
        "def format_date(pub_date_str):\n",
        "    try:\n",
        "        dt = parsedate_to_datetime(pub_date_str)\n",
        "        return dt.strftime(\"%Y-%m-%d %H:%M\")  # 예: 2025-05-06 10:59\n",
        "    except Exception as e:\n",
        "        print(f\"날짜 파싱 오류: {e}\")\n",
        "        return pub_date_str"
      ]
    },
    {
      "cell_type": "code",
      "execution_count": null,
      "id": "c021175c-7de3-43f0-b5bf-08b960e61493",
      "metadata": {
        "id": "c021175c-7de3-43f0-b5bf-08b960e61493"
      },
      "outputs": [],
      "source": [
        "# .env 파일에서 환경 변수 불러오기\n",
        "load_dotenv()\n",
        "\n",
        "# 환경 변수에서 네이버 API 키 읽기\n",
        "client_id = os.getenv(\"NAVER_CLIENT_ID\")\n",
        "client_secret = os.getenv(\"NAVER_CLIENT_SECRET\")\n",
        "\n",
        "# 뉴스 데이터를 담을 리스트\n",
        "news_data = []"
      ]
    },
    {
      "cell_type": "code",
      "execution_count": 25,
      "id": "bxSvJYZGRiJA",
      "metadata": {
        "id": "bxSvJYZGRiJA"
      },
      "outputs": [],
      "source": [
        "# 요청 URL을 위한 기본 설정\n",
        "base_url = \"https://openapi.naver.com/v1/search/news.json\"\n",
        "\n",
        "# 네이버 API 요청 헤더 설정\n",
        "headers = {\n",
        "    \"X-Naver-Client-Id\": client_id,\n",
        "    \"X-Naver-Client-Secret\": client_secret\n",
        "}"
      ]
    },
    {
      "cell_type": "code",
      "execution_count": 26,
      "id": "5u3gykDxMEIX",
      "metadata": {
        "id": "5u3gykDxMEIX"
      },
      "outputs": [],
      "source": [
        "keywords = [\n",
        "    \"국내 정치\", \"외교\", \"선거\", \"정치\",\n",
        "    \"금융\", \"부동산\", \"기업\", \"주식\", \"경제\",\n",
        "    \"사건\", \"교육\", \"환경\", \"사고\", \"사회\",\n",
        "    \"공연\", \"문학\", \"트렌드\", \"문화\",\n",
        "    \"국제 정치\", \"해외 사건\", \"세계 경제\", \"국제\",\n",
        "    \"축구\", \"야구\", \"골프\", \"스포츠\",\n",
        "    \"드라마\", \"가요\", \"연예계 이슈\", \"영화\", \"연예\",\n",
        "    \"인공지능\", \"스마트폰\", \"우주\", \"IT\", \"LLM\", \"AI\", \"과학\",\n",
        "    \"날씨\", \"건강\", \"여행\", \"요리\", \"생활\",\n",
        "    \"제조업\", \"에너지\", \"유통\", \"산업\",\n",
        "    \"노동\", \"기후 변화\", \"반도체\"\n",
        "]"
      ]
    },
    {
      "cell_type": "code",
      "execution_count": 27,
      "id": "FlcrI6mlRhGI",
      "metadata": {
        "colab": {
          "base_uri": "https://localhost:8080/"
        },
        "id": "FlcrI6mlRhGI",
        "outputId": "8eca0c0e-2d68-47e3-dcc5-774b0d826f86"
      },
      "outputs": [
        {
          "name": "stdout",
          "output_type": "stream",
          "text": [
            "🔍 '국내 정치' 키워드 수집 시작, 현재까지 리스트 길이: 0\n",
            "❌ '국내 정치' 키워드의 5페이지에서 오류 발생: 'NoneType' object has no attribute 'startswith'\n",
            "🔍 '외교' 키워드 수집 시작, 현재까지 리스트 길이: 312\n",
            "🔍 '선거' 키워드 수집 시작, 현재까지 리스트 길이: 1081\n",
            "🔍 '정치' 키워드 수집 시작, 현재까지 리스트 길이: 1943\n",
            "🔍 '금융' 키워드 수집 시작, 현재까지 리스트 길이: 2797\n",
            "🔍 '부동산' 키워드 수집 시작, 현재까지 리스트 길이: 3288\n",
            "🔍 '기업' 키워드 수집 시작, 현재까지 리스트 길이: 3914\n",
            "🔍 '주식' 키워드 수집 시작, 현재까지 리스트 길이: 4453\n",
            "🔍 '경제' 키워드 수집 시작, 현재까지 리스트 길이: 4982\n",
            "🔍 '사건' 키워드 수집 시작, 현재까지 리스트 길이: 5717\n",
            "🔍 '교육' 키워드 수집 시작, 현재까지 리스트 길이: 6590\n",
            "🔍 '환경' 키워드 수집 시작, 현재까지 리스트 길이: 6994\n",
            "🔍 '사고' 키워드 수집 시작, 현재까지 리스트 길이: 7472\n",
            "🔍 '사회' 키워드 수집 시작, 현재까지 리스트 길이: 8186\n",
            "🔍 '공연' 키워드 수집 시작, 현재까지 리스트 길이: 8713\n",
            "🔍 '문학' 키워드 수집 시작, 현재까지 리스트 길이: 9140\n",
            "🔍 '트렌드' 키워드 수집 시작, 현재까지 리스트 길이: 9583\n",
            "🔍 '문화' 키워드 수집 시작, 현재까지 리스트 길이: 9901\n",
            "🔍 '국제 정치' 키워드 수집 시작, 현재까지 리스트 길이: 10287\n",
            "🔍 '해외 사건' 키워드 수집 시작, 현재까지 리스트 길이: 10834\n",
            "🔍 '세계 경제' 키워드 수집 시작, 현재까지 리스트 길이: 11441\n",
            "🔍 '국제' 키워드 수집 시작, 현재까지 리스트 길이: 12060\n",
            "🔍 '축구' 키워드 수집 시작, 현재까지 리스트 길이: 12516\n",
            "❌ '축구' 키워드의 9페이지에서 오류 발생: 'NoneType' object has no attribute 'startswith'\n",
            "🔍 '야구' 키워드 수집 시작, 현재까지 리스트 길이: 12670\n",
            "🔍 '골프' 키워드 수집 시작, 현재까지 리스트 길이: 12826\n",
            "🔍 '스포츠' 키워드 수집 시작, 현재까지 리스트 길이: 13059\n",
            "🔍 '드라마' 키워드 수집 시작, 현재까지 리스트 길이: 13352\n",
            "🔍 '가요' 키워드 수집 시작, 현재까지 리스트 길이: 13527\n",
            "🔍 '연예계 이슈' 키워드 수집 시작, 현재까지 리스트 길이: 13736\n",
            "🔍 '영화' 키워드 수집 시작, 현재까지 리스트 길이: 13757\n",
            "🔍 '연예' 키워드 수집 시작, 현재까지 리스트 길이: 14217\n",
            "🔍 '인공지능' 키워드 수집 시작, 현재까지 리스트 길이: 14430\n",
            "🔍 '스마트폰' 키워드 수집 시작, 현재까지 리스트 길이: 14782\n",
            "🔍 '우주' 키워드 수집 시작, 현재까지 리스트 길이: 15251\n",
            "🔍 'IT' 키워드 수집 시작, 현재까지 리스트 길이: 15793\n",
            "❌ 'IT' 키워드의 4페이지에서 오류 발생: 'NoneType' object has no attribute 'startswith'\n",
            "🔍 'LLM' 키워드 수집 시작, 현재까지 리스트 길이: 15944\n",
            "🔍 'AI' 키워드 수집 시작, 현재까지 리스트 길이: 16323\n",
            "🔍 '과학' 키워드 수집 시작, 현재까지 리스트 길이: 16832\n",
            "🔍 '날씨' 키워드 수집 시작, 현재까지 리스트 길이: 17407\n",
            "❌ '날씨' 키워드의 8페이지에서 오류 발생: 'NoneType' object has no attribute 'startswith'\n",
            "🔍 '건강' 키워드 수집 시작, 현재까지 리스트 길이: 17875\n",
            "🔍 '여행' 키워드 수집 시작, 현재까지 리스트 길이: 18297\n",
            "🔍 '요리' 키워드 수집 시작, 현재까지 리스트 길이: 18807\n",
            "🔍 '생활' 키워드 수집 시작, 현재까지 리스트 길이: 19101\n",
            "🔍 '제조업' 키워드 수집 시작, 현재까지 리스트 길이: 19478\n",
            "🔍 '에너지' 키워드 수집 시작, 현재까지 리스트 길이: 20080\n",
            "🔍 '유통' 키워드 수집 시작, 현재까지 리스트 길이: 20507\n",
            "🔍 '산업' 키워드 수집 시작, 현재까지 리스트 길이: 20952\n",
            "🔍 '노동' 키워드 수집 시작, 현재까지 리스트 길이: 21523\n",
            "🔍 '기후 변화' 키워드 수집 시작, 현재까지 리스트 길이: 22228\n",
            "🔍 '반도체' 키워드 수집 시작, 현재까지 리스트 길이: 22624\n",
            "✅ 전체 수집 완료! 총 수집된 기사 수: 23315\n"
          ]
        }
      ],
      "source": [
        "total_news_count = 1000\n",
        "display_count = 100\n",
        "total_pages = total_news_count // display_count\n",
        "\n",
        "news_data = []\n",
        "\n",
        "for keyword in keywords:\n",
        "    print(f\"🔍 '{keyword}' 키워드 수집 시작, 현재까지 리스트 길이: {len(news_data)}\")\n",
        "\n",
        "    for start in range(1, total_pages + 1):\n",
        "        params = {\n",
        "            \"query\": keyword,\n",
        "            \"display\": display_count,\n",
        "            \"start\": (start - 1) * display_count + 1,\n",
        "            \"sort\": \"sim\"\n",
        "        }\n",
        "\n",
        "        try:\n",
        "            response = requests.get(base_url, headers=headers, params=params)\n",
        "            data = response.json()\n",
        "\n",
        "            for item in data[\"items\"]:\n",
        "                if item[\"link\"].startswith(\"https://n.news.naver.com/\"):\n",
        "                    news_item = {\n",
        "                        \"title\": clean_html_tags(item[\"title\"]),\n",
        "                        \"date\": format_date(item[\"pubDate\"]),\n",
        "                        \"link\": item[\"link\"],\n",
        "                        \"content\": get_article_content(item[\"link\"]),\n",
        "                        \"journal\": news_media_mapping.get(extract_domain(item[\"originallink\"]), \"Unknown\")\n",
        "                    }\n",
        "                    news_data.append(news_item)\n",
        "\n",
        "            time.sleep(1)\n",
        "\n",
        "        except Exception as e:\n",
        "            print(f\"❌ '{keyword}' 키워드의 {start}페이지에서 오류 발생: {e}\")\n",
        "            break\n",
        "\n",
        "print(f\"✅ 전체 수집 완료! 총 수집된 기사 수: {len(news_data)}\")\n"
      ]
    },
    {
      "cell_type": "code",
      "execution_count": 28,
      "id": "MwOWIrUJRrva",
      "metadata": {
        "colab": {
          "base_uri": "https://localhost:8080/"
        },
        "id": "MwOWIrUJRrva",
        "outputId": "0c5d7994-f0df-4816-b4f5-65242cfd341b"
      },
      "outputs": [
        {
          "name": "stdout",
          "output_type": "stream",
          "text": [
            "총 23315개의 뉴스가 저장되었습니다.\n"
          ]
        }
      ],
      "source": [
        "# 결과를 JSON 파일로 저장\n",
        "with open(\"sports_news.json\", \"w\", encoding=\"utf-8\") as f:\n",
        "    json.dump(news_data, f, ensure_ascii=False, indent=4)\n",
        "\n",
        "print(f\"총 {len(news_data)}개의 뉴스가 저장되었습니다.\")"
      ]
    },
    {
      "cell_type": "code",
      "execution_count": 29,
      "id": "2fb60e6a-91bf-4a08-a631-6dd6912952eb",
      "metadata": {
        "colab": {
          "base_uri": "https://localhost:8080/"
        },
        "id": "2fb60e6a-91bf-4a08-a631-6dd6912952eb",
        "outputId": "6be7cf66-0cbd-4550-eb95-3a3765bbc256"
      },
      "outputs": [
        {
          "name": "stdout",
          "output_type": "stream",
          "text": [
            "{'title': '체코 원전 계약 제동…국내 건설업계 ‘초긴장’', 'date': '2025-05-07 10:20', 'link': 'https://n.news.naver.com/mnews/article/003/0013225746?sid=101', 'content': '두산에너빌리티·대우건설 수조원 수주 여부 달려[두코바니(체코)=AP/뉴시스]체코 두코바니에 있는 두코바니 원자력발전소의 냉각탑 4개의 모습.  2022.11.30[서울=뉴시스] 김종민 기자 = 체코 법원이 한국수력원자력(한수원)의 신규 원전 건설 계약에 제동을 걸면서, 국내 원전 관련 건설·기자재 업체들이 비상에 걸렸다. 특히 두산에너빌리티와 대우건설 등 핵심 기업들의 수조 원대 수주 여부가 불투명해지며 건설업계 전반에 긴장감이 감돌고 있다.체코 브르노 지방 법원은 프랑스전력공사(EDF)가 제기한 가처분 신청을 일부 인용하며, 한수원과 체코전력공사(CEZ) 간 7일 예정돼 있던 최종 계약서 서명을 금지했다. 이에 따라 양국 정부와 국회 대표단까지 참석한 계약 서명식은 전격 취소됐으며, 한국 대표단은 별다른 성과 없이 귀국길에 오를 수밖에 없게 됐다.이번 가처분 결정은 EDF가 체코 공정거래청의 입찰 승인 과정에 문제가 있다며 소송을 제기한 데 따른 것으로, 법원은 “회복 불가능한 결과를 초래할 수 있다”는 이유로 계약 체결을 일시 중단시켰다.문제가 된 체코 원전 프로젝트는 한수원이 주관하고, 한전기술, 한전KPS, 한전원자력연료 등 한전 계열사와 함께 두산에너빌리티, 대우건설 등이 참여하는 ‘팀 코리아’ 형태로 진행돼 왔다. 전체 사업 규모는 약 26조원 이상으로 추산되며, 이 가운데 두산에너빌리티는 원자로 등 주기기 공급, 대우건설은 주요 시공을 담당하는 핵심 역할을 맡고 있다.이번 법원 결정은 단순한 일정 지연을 넘어, 유럽 내 원전 수출 전반에 불확실성을 키우는 ‘법률 리스크’의 시작이라는 우려도 커지고 있다. EDF는 유럽연합(EU) 집행위원회에도 한국 정부의 지원이 EU 보조금 규제에 위배된다는 문제를 제기하고 있어, 향후 계약 재개 시점도 가늠하기 어려운 상황이다.한 에너지 업계 전문가는 “한국의 원전 기술력은 이미 체코 정부와 발주처인 CEZ로부터 가장 경쟁력 있는 제안이라는 평가를 받았지만, 유럽 내 에너지 주권 문제, 경쟁국의 정치·법률적 압박 등 비경제적 변수들이 리스크로 부상하고 있다”고 진단했다.한수원은 “체코 측과 긴밀히 협의해 계약 서명 일정이 조속히 다시 잡히도록 최선을 다할 것”이라는 입장을 밝혔지만, 국내 기업들은 체코 외에도 폴란드·사우디아라비아 등에서 진행 중인 다른 원전 수주전에도 불똥이 튈까 우려하는 분위기다.건설업계 한 관계자는 “계약 체결이 하루를 남기고 좌초된 셈이라 충격이 크다”며 “수주 자체가 무산되지는 않더라도, 법적 쟁송이 장기화할 경우 수개월 이상 지연될 가능성이 높고, 이는 수주 실적과 기업 실적 전망에도 큰 부담이 될 것”이라고 말했다．', 'journal': '뉴시스'}\n"
          ]
        }
      ],
      "source": [
        "# 저장된 JSON 파일 열기\n",
        "with open(\"sports_news.json\", \"r\", encoding=\"utf-8\") as f:\n",
        "    news_data = json.load(f)\n",
        "\n",
        "# 첫 번째 뉴스의 content 확인\n",
        "first_news_content = news_data[0]\n",
        "\n",
        "print(first_news_content)"
      ]
    },
    {
      "cell_type": "code",
      "execution_count": 30,
      "id": "dc356d9e-2dad-4f77-85a2-298d419ed0b6",
      "metadata": {
        "colab": {
          "base_uri": "https://localhost:8080/"
        },
        "id": "dc356d9e-2dad-4f77-85a2-298d419ed0b6",
        "outputId": "a02f9b66-4340-4641-fe48-7b4cfcf519d4"
      },
      "outputs": [
        {
          "name": "stdout",
          "output_type": "stream",
          "text": [
            "Unknown인 데이터 개수: 8257\n"
          ]
        }
      ],
      "source": [
        "# \"journal\" 값이 \"Unknown\"인 데이터 개수 세기\n",
        "unknown_count = sum(1 for item in news_data if item['journal'] == 'Unknown')\n",
        "\n",
        "# 개수 출력\n",
        "print(f'Unknown인 데이터 개수: {unknown_count}')"
      ]
    },
    {
      "cell_type": "code",
      "execution_count": 31,
      "id": "8n46K3zFLO7T",
      "metadata": {
        "colab": {
          "base_uri": "https://localhost:8080/"
        },
        "id": "8n46K3zFLO7T",
        "outputId": "eadbac86-4c76-47e3-a875-6a22158599c1"
      },
      "outputs": [
        {
          "name": "stdout",
          "output_type": "stream",
          "text": [
            "Unknown 값을 제거한 후 남은 데이터 개수: 15058\n"
          ]
        }
      ],
      "source": [
        "# \"journal\" 값이 \"Unknown\"이 아닌 데이터만 남김\n",
        "filtered_data = [item for item in news_data if item['journal'] != 'Unknown']\n",
        "\n",
        "# 새로운 JSON 파일로 저장\n",
        "with open('filtered_news_data.json', 'w', encoding='utf-8') as f:\n",
        "    json.dump(filtered_data, f, ensure_ascii=False, indent=4)\n",
        "\n",
        "print(f'Unknown 값을 제거한 후 남은 데이터 개수: {len(filtered_data)}')"
      ]
    },
    {
      "cell_type": "code",
      "execution_count": null,
      "id": "W_eds3Te6UvM",
      "metadata": {
        "id": "W_eds3Te6UvM"
      },
      "outputs": [],
      "source": []
    }
  ],
  "metadata": {
    "colab": {
      "include_colab_link": true,
      "provenance": []
    },
    "kernelspec": {
      "display_name": "Python 3 (ipykernel)",
      "language": "python",
      "name": "python3"
    },
    "language_info": {
      "codemirror_mode": {
        "name": "ipython",
        "version": 3
      },
      "file_extension": ".py",
      "mimetype": "text/x-python",
      "name": "python",
      "nbconvert_exporter": "python",
      "pygments_lexer": "ipython3",
      "version": "3.12.7"
    }
  },
  "nbformat": 4,
  "nbformat_minor": 5
}
